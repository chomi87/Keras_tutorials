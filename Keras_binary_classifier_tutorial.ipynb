{
 "cells": [
  {
   "cell_type": "markdown",
   "metadata": {},
   "source": [
    "# Keras binary classifier tutorial\n",
    "\n",
    "Part 1-5 of the instructions are based on https://machinelearningmastery.com/tutorial-first-neural-network-python-keras/\n",
    "\n",
    "Also, most of the textual description are taken or adaped from the same link."
   ]
  },
  {
   "cell_type": "markdown",
   "metadata": {},
   "source": [
    "## 1. Load Data\n",
    "\n"
   ]
  },
  {
   "cell_type": "markdown",
   "metadata": {},
   "source": [
    "### Import packages\n",
    "We import keras, for the neural network part, and numpy for dealing with the files and for transforming the data into the right matricial format.\n",
    "\n",
    "Also, we set a specified random seed for reproducibility"
   ]
  },
  {
   "cell_type": "code",
   "execution_count": 1,
   "metadata": {},
   "outputs": [
    {
     "name": "stderr",
     "output_type": "stream",
     "text": [
      "Using TensorFlow backend.\n"
     ]
    },
    {
     "name": "stdout",
     "output_type": "stream",
     "text": [
      "Imported keras version 2.0.8\n"
     ]
    }
   ],
   "source": [
    "import keras\n",
    "\n",
    "from keras.models import Sequential\n",
    "from keras.layers import Dense\n",
    "import numpy as np\n",
    "# fix random seed for reproducibility\n",
    "np.random.seed(7)\n",
    "\n",
    "import matplotlib.pyplot as plt\n",
    "%matplotlib inline\n",
    "import seaborn as sns\n",
    "plt.style.use('ggplot')\n",
    "sns.mpl.rc(\"figure\", figsize=(8,8))\n",
    "sns.set_context(context = 'poster')\n",
    "\n",
    "\n",
    "\n",
    "print('Imported keras version', keras.__version__)"
   ]
  },
  {
   "cell_type": "markdown",
   "metadata": {},
   "source": [
    "### Import data\n",
    "We use the  *Pima Indians onset of diabetes* dataset, available from http://archive.ics.uci.edu/ml/machine-learning-databases/pima-indians-diabetes/pima-indians-diabetes.data.\n",
    "\n",
    "N.B. download the dataset and save it as a csv file in the same folder as this notebook."
   ]
  },
  {
   "cell_type": "code",
   "execution_count": 2,
   "metadata": {
    "collapsed": true
   },
   "outputs": [],
   "source": [
    "dataset = np.loadtxt(\"pima-indians-diabetes.csv\", delimiter=\",\")\n",
    "\n",
    "# split into input (X) and output (Y) variables\n",
    "X = dataset[:,0:8]\n",
    "Y = dataset[:,8]"
   ]
  },
  {
   "cell_type": "code",
   "execution_count": 3,
   "metadata": {},
   "outputs": [
    {
     "name": "stdout",
     "output_type": "stream",
     "text": [
      "(768, 8)\n"
     ]
    }
   ],
   "source": [
    "print(X.shape)\n",
    "input_dim = X.shape[1]"
   ]
  },
  {
   "cell_type": "code",
   "execution_count": 11,
   "metadata": {},
   "outputs": [
    {
     "name": "stdout",
     "output_type": "stream",
     "text": [
      "[ 1.  0.  1.  0.  1.  0.  1.  0.  1.  1.]\n"
     ]
    }
   ],
   "source": [
    "print(Y[0:10])"
   ]
  },
  {
   "cell_type": "markdown",
   "metadata": {},
   "source": [
    "We have 768 observations of 8 variables (X) plus 1 target variable (Y). The target variable is binary."
   ]
  },
  {
   "cell_type": "markdown",
   "metadata": {},
   "source": [
    "## 2. Define Model\n",
    "\n",
    "We create a Sequential model and add layers one at a time until we are happy with our network topology.\n",
    "\n",
    "- The first thing to get right is to ensure the input layer has the right number of inputs. This can be specified when creating the first layer with the **input_dim** argument and setting it to 8 for the 8 input variables.\n",
    "\n",
    "- In this example, we will use a **fully-connected network** structure with three layers. Fully connected layers are defined using the **Dense** class. We can specify the number of neurons in the layer as the first argument, the initialization method as the second argument as init and specify the activation function using the activation argument.\n",
    "\n",
    "- In this case, we initialize the network weights to a small random number generated from a **uniform distribution** (‘uniform‘), in this case between 0 and 0.05 because that is the default uniform weight initialization in Keras. Another traditional alternative would be *normal* for small random numbers generated from a Gaussian distribution. \n",
    "\n",
    "- We will use the rectifier (**‘relu‘**) activation function on the first two layers and the **sigmoid** function in the output layer. The reason is that using relu the training is generally faster without deteriorating the performance. On the other hand, the sigmoid is used because it allows the output to be in the 0-1 range, which is easily interpretable as a probability.\n",
    "\n",
    "\n",
    "\n",
    "\n",
    "\n"
   ]
  },
  {
   "cell_type": "code",
   "execution_count": 4,
   "metadata": {
    "collapsed": true
   },
   "outputs": [],
   "source": [
    "# create model\n",
    "model = Sequential()\n",
    "model.add(Dense(12, input_dim=8, activation='relu'))\n",
    "model.add(Dense(8, activation='relu'))\n",
    "model.add(Dense(1, activation='sigmoid'))"
   ]
  },
  {
   "cell_type": "markdown",
   "metadata": {},
   "source": [
    "## 3. Compile Model\n",
    "Compiling the model uses the efficient numerical libraries under the covers (the so-called backend), in this case TensorFlow. \n",
    "\n",
    "Here, we specify:\n",
    "\n",
    "1) the **loss function** to evaluate the weights, in this example a *logloss*, which for a binary classification problem is defined in Keras as **“binary_crossentropy“**.\n",
    "\n",
    "2) the **optimizer** to search the space of the possible weights, here we use **adam** (Adaptive Moment Estimation) which is an efficient version of gradient descent (see http://ruder.io/optimizing-gradient-descent/ or in the original paper https://arxiv.org/pdf/1412.6980.pdf)\n",
    "\n",
    "3) the (optional) **metrics** to be collected and reported during the training phase, in this case the **accuracy**\n"
   ]
  },
  {
   "cell_type": "code",
   "execution_count": 5,
   "metadata": {
    "collapsed": true
   },
   "outputs": [],
   "source": [
    "# Compile model\n",
    "model.compile(loss='binary_crossentropy', optimizer='adam', metrics=['accuracy'])"
   ]
  },
  {
   "cell_type": "markdown",
   "metadata": {},
   "source": [
    "## 4. Fit Model\n",
    "\n",
    "The training function, called **fit** requires two arguments:\n",
    "\n",
    "1) the number of **epochs**, or iterations through the dataset;\n",
    "\n",
    "2) the number of instances that are evaluated before a weight update in the network is performed, called **batch size**\n",
    "\n",
    "For this problem, we will run for a small number of iterations (150) and use a relatively small batch size of 10. Again, these can be chosen experimentally by trial and error.\n",
    "\n",
    "N.B. here, given the small nature of our dataset, we do not perform a **train-test split**, which is generally required to properly evaluate the performance of a model."
   ]
  },
  {
   "cell_type": "code",
   "execution_count": 6,
   "metadata": {
    "scrolled": true
   },
   "outputs": [
    {
     "name": "stdout",
     "output_type": "stream",
     "text": [
      "Epoch 1/150\n",
      "768/768 [==============================] - 0s - loss: 3.7513 - acc: 0.6003     \n",
      "Epoch 2/150\n",
      "768/768 [==============================] - 0s - loss: 0.9439 - acc: 0.5951     \n",
      "Epoch 3/150\n",
      "768/768 [==============================] - 0s - loss: 0.7515 - acc: 0.6380     \n",
      "Epoch 4/150\n",
      "768/768 [==============================] - 0s - loss: 0.7133 - acc: 0.6549     \n",
      "Epoch 5/150\n",
      "768/768 [==============================] - 0s - loss: 0.6830 - acc: 0.6719     \n",
      "Epoch 6/150\n",
      "768/768 [==============================] - 0s - loss: 0.6518 - acc: 0.6810     \n",
      "Epoch 7/150\n",
      "768/768 [==============================] - 0s - loss: 0.6503 - acc: 0.6771     \n",
      "Epoch 8/150\n",
      "768/768 [==============================] - 0s - loss: 0.6384 - acc: 0.6836     \n",
      "Epoch 9/150\n",
      "768/768 [==============================] - 0s - loss: 0.6253 - acc: 0.6940     \n",
      "Epoch 10/150\n",
      "768/768 [==============================] - 0s - loss: 0.6318 - acc: 0.6758     \n",
      "Epoch 11/150\n",
      "768/768 [==============================] - 0s - loss: 0.6501 - acc: 0.6693     \n",
      "Epoch 12/150\n",
      "768/768 [==============================] - 0s - loss: 0.6410 - acc: 0.6745     \n",
      "Epoch 13/150\n",
      "768/768 [==============================] - 0s - loss: 0.6263 - acc: 0.6797     \n",
      "Epoch 14/150\n",
      "768/768 [==============================] - 0s - loss: 0.6192 - acc: 0.7031     \n",
      "Epoch 15/150\n",
      "768/768 [==============================] - 0s - loss: 0.6031 - acc: 0.6888     \n",
      "Epoch 16/150\n",
      "768/768 [==============================] - 0s - loss: 0.5881 - acc: 0.6979     \n",
      "Epoch 17/150\n",
      "768/768 [==============================] - 0s - loss: 0.5848 - acc: 0.7005     \n",
      "Epoch 18/150\n",
      "768/768 [==============================] - 0s - loss: 0.6001 - acc: 0.6927     \n",
      "Epoch 19/150\n",
      "768/768 [==============================] - 0s - loss: 0.5802 - acc: 0.7109     \n",
      "Epoch 20/150\n",
      "768/768 [==============================] - 0s - loss: 0.5800 - acc: 0.7201     \n",
      "Epoch 21/150\n",
      "768/768 [==============================] - 0s - loss: 0.5688 - acc: 0.7161     \n",
      "Epoch 22/150\n",
      "768/768 [==============================] - 0s - loss: 0.5826 - acc: 0.6953     \n",
      "Epoch 23/150\n",
      "768/768 [==============================] - 0s - loss: 0.5737 - acc: 0.7148     \n",
      "Epoch 24/150\n",
      "768/768 [==============================] - 0s - loss: 0.5674 - acc: 0.7318     \n",
      "Epoch 25/150\n",
      "768/768 [==============================] - 0s - loss: 0.5579 - acc: 0.7357     \n",
      "Epoch 26/150\n",
      "768/768 [==============================] - 0s - loss: 0.5701 - acc: 0.7057     \n",
      "Epoch 27/150\n",
      "768/768 [==============================] - 0s - loss: 0.5555 - acc: 0.7227     \n",
      "Epoch 28/150\n",
      "768/768 [==============================] - 0s - loss: 0.5553 - acc: 0.7305     \n",
      "Epoch 29/150\n",
      "768/768 [==============================] - 0s - loss: 0.5726 - acc: 0.7161     \n",
      "Epoch 30/150\n",
      "768/768 [==============================] - 0s - loss: 0.5612 - acc: 0.7214     \n",
      "Epoch 31/150\n",
      "768/768 [==============================] - 0s - loss: 0.5693 - acc: 0.7174     \n",
      "Epoch 32/150\n",
      "768/768 [==============================] - 0s - loss: 0.5639 - acc: 0.7122     \n",
      "Epoch 33/150\n",
      "768/768 [==============================] - 0s - loss: 0.5518 - acc: 0.7174     \n",
      "Epoch 34/150\n",
      "768/768 [==============================] - 0s - loss: 0.5495 - acc: 0.7318     \n",
      "Epoch 35/150\n",
      "768/768 [==============================] - 0s - loss: 0.5500 - acc: 0.7188     \n",
      "Epoch 36/150\n",
      "768/768 [==============================] - 0s - loss: 0.5647 - acc: 0.7070     \n",
      "Epoch 37/150\n",
      "768/768 [==============================] - 0s - loss: 0.5335 - acc: 0.7409     \n",
      "Epoch 38/150\n",
      "768/768 [==============================] - 0s - loss: 0.5405 - acc: 0.7214     \n",
      "Epoch 39/150\n",
      "768/768 [==============================] - 0s - loss: 0.5463 - acc: 0.7227     \n",
      "Epoch 40/150\n",
      "768/768 [==============================] - 0s - loss: 0.5444 - acc: 0.7279     \n",
      "Epoch 41/150\n",
      "768/768 [==============================] - 0s - loss: 0.5437 - acc: 0.7331     \n",
      "Epoch 42/150\n",
      "768/768 [==============================] - 0s - loss: 0.5371 - acc: 0.7435     \n",
      "Epoch 43/150\n",
      "768/768 [==============================] - 0s - loss: 0.5300 - acc: 0.7500     \n",
      "Epoch 44/150\n",
      "768/768 [==============================] - 0s - loss: 0.5329 - acc: 0.7461     \n",
      "Epoch 45/150\n",
      "768/768 [==============================] - 0s - loss: 0.5315 - acc: 0.7565     \n",
      "Epoch 46/150\n",
      "768/768 [==============================] - 0s - loss: 0.5279 - acc: 0.7474     \n",
      "Epoch 47/150\n",
      "768/768 [==============================] - 0s - loss: 0.5292 - acc: 0.7422     \n",
      "Epoch 48/150\n",
      "768/768 [==============================] - 0s - loss: 0.5317 - acc: 0.7409     \n",
      "Epoch 49/150\n",
      "768/768 [==============================] - 0s - loss: 0.5334 - acc: 0.7435     \n",
      "Epoch 50/150\n",
      "768/768 [==============================] - 0s - loss: 0.5263 - acc: 0.7357     \n",
      "Epoch 51/150\n",
      "768/768 [==============================] - 0s - loss: 0.5271 - acc: 0.7448     \n",
      "Epoch 52/150\n",
      "768/768 [==============================] - 0s - loss: 0.5325 - acc: 0.7461     \n",
      "Epoch 53/150\n",
      "768/768 [==============================] - 0s - loss: 0.5390 - acc: 0.7500     \n",
      "Epoch 54/150\n",
      "768/768 [==============================] - 0s - loss: 0.5383 - acc: 0.7266     \n",
      "Epoch 55/150\n",
      "768/768 [==============================] - 0s - loss: 0.5215 - acc: 0.7526     \n",
      "Epoch 56/150\n",
      "768/768 [==============================] - 0s - loss: 0.5277 - acc: 0.7448     \n",
      "Epoch 57/150\n",
      "768/768 [==============================] - 0s - loss: 0.5322 - acc: 0.7383     \n",
      "Epoch 58/150\n",
      "768/768 [==============================] - 0s - loss: 0.5213 - acc: 0.7513     \n",
      "Epoch 59/150\n",
      "768/768 [==============================] - 0s - loss: 0.5129 - acc: 0.7617     \n",
      "Epoch 60/150\n",
      "768/768 [==============================] - 0s - loss: 0.5348 - acc: 0.7396     \n",
      "Epoch 61/150\n",
      "768/768 [==============================] - 0s - loss: 0.5264 - acc: 0.7292     \n",
      "Epoch 62/150\n",
      "768/768 [==============================] - 0s - loss: 0.5165 - acc: 0.7539     \n",
      "Epoch 63/150\n",
      "768/768 [==============================] - 0s - loss: 0.5446 - acc: 0.7357     \n",
      "Epoch 64/150\n",
      "768/768 [==============================] - 0s - loss: 0.5330 - acc: 0.7370     \n",
      "Epoch 65/150\n",
      "768/768 [==============================] - 0s - loss: 0.5193 - acc: 0.7461     \n",
      "Epoch 66/150\n",
      "768/768 [==============================] - 0s - loss: 0.5065 - acc: 0.7448     \n",
      "Epoch 67/150\n",
      "768/768 [==============================] - 0s - loss: 0.5168 - acc: 0.7331     \n",
      "Epoch 68/150\n",
      "768/768 [==============================] - 0s - loss: 0.5118 - acc: 0.7526     \n",
      "Epoch 69/150\n",
      "768/768 [==============================] - 0s - loss: 0.5120 - acc: 0.7487     \n",
      "Epoch 70/150\n",
      "768/768 [==============================] - 0s - loss: 0.5354 - acc: 0.7188     \n",
      "Epoch 71/150\n",
      "768/768 [==============================] - 0s - loss: 0.5193 - acc: 0.7448     \n",
      "Epoch 72/150\n",
      "768/768 [==============================] - 0s - loss: 0.5165 - acc: 0.7461     \n",
      "Epoch 73/150\n",
      "768/768 [==============================] - 0s - loss: 0.5155 - acc: 0.7435     \n",
      "Epoch 74/150\n",
      "768/768 [==============================] - 0s - loss: 0.5097 - acc: 0.7604     \n",
      "Epoch 75/150\n",
      "768/768 [==============================] - 0s - loss: 0.5102 - acc: 0.7604     \n",
      "Epoch 76/150\n",
      "768/768 [==============================] - 0s - loss: 0.5147 - acc: 0.7526     \n",
      "Epoch 77/150\n",
      "768/768 [==============================] - 0s - loss: 0.5149 - acc: 0.7578     \n",
      "Epoch 78/150\n",
      "768/768 [==============================] - 0s - loss: 0.5146 - acc: 0.7474     \n",
      "Epoch 79/150\n",
      "768/768 [==============================] - 0s - loss: 0.5146 - acc: 0.7396     \n",
      "Epoch 80/150\n",
      "768/768 [==============================] - 0s - loss: 0.5097 - acc: 0.7578     \n",
      "Epoch 81/150\n",
      "768/768 [==============================] - 0s - loss: 0.5049 - acc: 0.7643     \n",
      "Epoch 82/150\n",
      "768/768 [==============================] - 0s - loss: 0.5070 - acc: 0.7565     \n",
      "Epoch 83/150\n",
      "768/768 [==============================] - 0s - loss: 0.5013 - acc: 0.7643     \n",
      "Epoch 84/150\n",
      "768/768 [==============================] - 0s - loss: 0.4962 - acc: 0.7565     \n",
      "Epoch 85/150\n",
      "768/768 [==============================] - 0s - loss: 0.5056 - acc: 0.7539     \n",
      "Epoch 86/150\n",
      "768/768 [==============================] - 0s - loss: 0.5074 - acc: 0.7474     \n",
      "Epoch 87/150\n",
      "768/768 [==============================] - 0s - loss: 0.4978 - acc: 0.7591     \n",
      "Epoch 88/150\n",
      "768/768 [==============================] - 0s - loss: 0.4996 - acc: 0.7643     \n",
      "Epoch 89/150\n",
      "768/768 [==============================] - 0s - loss: 0.5038 - acc: 0.7708     \n",
      "Epoch 90/150\n",
      "768/768 [==============================] - 0s - loss: 0.5089 - acc: 0.7526     \n",
      "Epoch 91/150\n",
      "768/768 [==============================] - 0s - loss: 0.4993 - acc: 0.7591     \n",
      "Epoch 92/150\n",
      "768/768 [==============================] - 0s - loss: 0.5049 - acc: 0.7552     \n",
      "Epoch 93/150\n",
      "768/768 [==============================] - 0s - loss: 0.4973 - acc: 0.7643     \n",
      "Epoch 94/150\n",
      "768/768 [==============================] - 0s - loss: 0.4973 - acc: 0.7695     \n",
      "Epoch 95/150\n",
      "768/768 [==============================] - 0s - loss: 0.5029 - acc: 0.7526     \n",
      "Epoch 96/150\n",
      "768/768 [==============================] - 0s - loss: 0.4898 - acc: 0.7708     \n",
      "Epoch 97/150\n",
      "768/768 [==============================] - 0s - loss: 0.4968 - acc: 0.7747     \n",
      "Epoch 98/150\n",
      "768/768 [==============================] - 0s - loss: 0.4883 - acc: 0.7656     \n",
      "Epoch 99/150\n",
      "768/768 [==============================] - 0s - loss: 0.4885 - acc: 0.7682     \n",
      "Epoch 100/150\n",
      "768/768 [==============================] - 0s - loss: 0.4845 - acc: 0.7826     \n",
      "Epoch 101/150\n",
      "768/768 [==============================] - 0s - loss: 0.4885 - acc: 0.7747     \n",
      "Epoch 102/150\n",
      "768/768 [==============================] - 0s - loss: 0.4977 - acc: 0.7591     \n",
      "Epoch 103/150\n",
      "768/768 [==============================] - 0s - loss: 0.4968 - acc: 0.7617     \n",
      "Epoch 104/150\n",
      "768/768 [==============================] - 0s - loss: 0.4910 - acc: 0.7878     \n",
      "Epoch 105/150\n",
      "768/768 [==============================] - 0s - loss: 0.5284 - acc: 0.7461     \n",
      "Epoch 106/150\n",
      "768/768 [==============================] - 0s - loss: 0.4907 - acc: 0.7786     \n",
      "Epoch 107/150\n",
      "768/768 [==============================] - 0s - loss: 0.4883 - acc: 0.7734     \n",
      "Epoch 108/150\n",
      "768/768 [==============================] - 0s - loss: 0.5022 - acc: 0.7656     \n",
      "Epoch 109/150\n",
      "768/768 [==============================] - 0s - loss: 0.4862 - acc: 0.7617     \n",
      "Epoch 110/150\n",
      "768/768 [==============================] - 0s - loss: 0.4863 - acc: 0.7682     \n",
      "Epoch 111/150\n",
      "768/768 [==============================] - 0s - loss: 0.4827 - acc: 0.7799     \n",
      "Epoch 112/150\n",
      "768/768 [==============================] - 0s - loss: 0.4915 - acc: 0.7812     \n",
      "Epoch 113/150\n",
      "768/768 [==============================] - 0s - loss: 0.4975 - acc: 0.7565     \n",
      "Epoch 114/150\n",
      "768/768 [==============================] - 0s - loss: 0.4908 - acc: 0.7591     \n",
      "Epoch 115/150\n",
      "768/768 [==============================] - 0s - loss: 0.4931 - acc: 0.7656     \n",
      "Epoch 116/150\n",
      "768/768 [==============================] - 0s - loss: 0.4895 - acc: 0.7708     \n",
      "Epoch 117/150\n",
      "768/768 [==============================] - 0s - loss: 0.4919 - acc: 0.7630     \n",
      "Epoch 118/150\n",
      "768/768 [==============================] - 0s - loss: 0.4859 - acc: 0.7786     \n",
      "Epoch 119/150\n",
      "768/768 [==============================] - 0s - loss: 0.4833 - acc: 0.7643     \n",
      "Epoch 120/150\n",
      "768/768 [==============================] - 0s - loss: 0.4952 - acc: 0.7747     \n",
      "Epoch 121/150\n",
      "768/768 [==============================] - 0s - loss: 0.4921 - acc: 0.7760     \n",
      "Epoch 122/150\n",
      "768/768 [==============================] - 0s - loss: 0.4823 - acc: 0.7773     \n",
      "Epoch 123/150\n",
      "768/768 [==============================] - 0s - loss: 0.4858 - acc: 0.7617     \n",
      "Epoch 124/150\n",
      "768/768 [==============================] - 0s - loss: 0.4841 - acc: 0.7734     \n",
      "Epoch 125/150\n",
      "768/768 [==============================] - 0s - loss: 0.4865 - acc: 0.7799     \n",
      "Epoch 126/150\n",
      "768/768 [==============================] - 0s - loss: 0.4792 - acc: 0.7682     \n",
      "Epoch 127/150\n",
      "768/768 [==============================] - 0s - loss: 0.4872 - acc: 0.7708     \n",
      "Epoch 128/150\n",
      "768/768 [==============================] - 0s - loss: 0.4704 - acc: 0.7760     \n",
      "Epoch 129/150\n",
      "768/768 [==============================] - 0s - loss: 0.4814 - acc: 0.7721     \n",
      "Epoch 130/150\n",
      "768/768 [==============================] - 0s - loss: 0.4710 - acc: 0.7865     \n",
      "Epoch 131/150\n",
      "768/768 [==============================] - 0s - loss: 0.4819 - acc: 0.7669     \n",
      "Epoch 132/150\n",
      "768/768 [==============================] - 0s - loss: 0.4799 - acc: 0.7812     \n",
      "Epoch 133/150\n",
      "768/768 [==============================] - 0s - loss: 0.4831 - acc: 0.7656     \n",
      "Epoch 134/150\n",
      "768/768 [==============================] - 0s - loss: 0.4854 - acc: 0.7721     \n",
      "Epoch 135/150\n",
      "768/768 [==============================] - 0s - loss: 0.4739 - acc: 0.7682     \n",
      "Epoch 136/150\n",
      "768/768 [==============================] - 0s - loss: 0.4717 - acc: 0.7708     \n",
      "Epoch 137/150\n",
      "768/768 [==============================] - 0s - loss: 0.4673 - acc: 0.7904     \n",
      "Epoch 138/150\n",
      "768/768 [==============================] - 0s - loss: 0.4782 - acc: 0.7878     \n",
      "Epoch 139/150\n",
      "768/768 [==============================] - 0s - loss: 0.4669 - acc: 0.7773     \n",
      "Epoch 140/150\n",
      "768/768 [==============================] - 0s - loss: 0.4794 - acc: 0.7839     \n",
      "Epoch 141/150\n",
      "768/768 [==============================] - 0s - loss: 0.4703 - acc: 0.7826     \n",
      "Epoch 142/150\n",
      "768/768 [==============================] - 0s - loss: 0.4820 - acc: 0.7669     \n",
      "Epoch 143/150\n",
      "768/768 [==============================] - 0s - loss: 0.4711 - acc: 0.7799     \n",
      "Epoch 144/150\n",
      "768/768 [==============================] - 0s - loss: 0.4722 - acc: 0.7747     \n",
      "Epoch 145/150\n",
      "768/768 [==============================] - 0s - loss: 0.4875 - acc: 0.7604     \n",
      "Epoch 146/150\n",
      "768/768 [==============================] - 0s - loss: 0.4905 - acc: 0.7695     \n",
      "Epoch 147/150\n",
      "768/768 [==============================] - 0s - loss: 0.4829 - acc: 0.7826     \n",
      "Epoch 148/150\n",
      "768/768 [==============================] - 0s - loss: 0.4696 - acc: 0.7773     \n",
      "Epoch 149/150\n",
      "768/768 [==============================] - 0s - loss: 0.4730 - acc: 0.7643     \n",
      "Epoch 150/150\n",
      "768/768 [==============================] - 0s - loss: 0.4777 - acc: 0.7839     \n"
     ]
    },
    {
     "data": {
      "text/plain": [
       "<keras.callbacks.History at 0x115dcfb38>"
      ]
     },
     "execution_count": 6,
     "metadata": {},
     "output_type": "execute_result"
    }
   ],
   "source": [
    "# Fit the model\n",
    "model.fit(X, Y, epochs=150, batch_size=10)"
   ]
  },
  {
   "cell_type": "markdown",
   "metadata": {},
   "source": [
    "## 5. Evaluate Model\n",
    "\n",
    "We have trained our neural network on the entire dataset and we can evaluate the performance of the network on the same dataset (see comment above on train-test split). \n",
    "\n",
    "You can evaluate your model on your training dataset using the evaluate() function on your model and pass it the same input and output used to train the model.\n",
    "\n",
    "This will generate a prediction for each input and output pair and collect scores, including the average loss and any metrics you have configured, such as accuracy.\n",
    "\n"
   ]
  },
  {
   "cell_type": "code",
   "execution_count": 7,
   "metadata": {},
   "outputs": [
    {
     "name": "stdout",
     "output_type": "stream",
     "text": [
      " 32/768 [>.............................] - ETA: 0s\n",
      "acc: 78.26%\n"
     ]
    }
   ],
   "source": [
    "# evaluate the model\n",
    "scores = model.evaluate(X, Y)\n",
    "print(\"\\n%s: %.2f%%\" % (model.metrics_names[1], scores[1]*100))"
   ]
  },
  {
   "cell_type": "markdown",
   "metadata": {},
   "source": [
    "## 6. Making predictions and ROC curve\n",
    "\n",
    "To go one step further, we retrain the model on different train-test splits and try to measure the performance.\n",
    "We start by importing the packages for performing a **stratified K fold**, and to compute and plot a **ROC** curve, as well as the **AUC** (Area under the curve) metrics.\n",
    "\n",
    "The ROC tries to capture how a classifier performs with different thresholds. It consists of the performance of the classifier in terms of **true positive rate** (tpr) against **false positive rate** (fpr) while varying the threshold. Starting from an extremely high threshold, the model will classify everything as negative. Therefore, both the tpr and the fpr will be zero. On the other extreme, with a zero threshold, everything will be classified as positive, resulting in 100% recall and tpr, at the price of having a 100% false positives.\n",
    "With thresholds in between the extreme values, a naive (random) classifier, will have the same tpr and fpr. The better the non-naive classifier is, the more it will outperform the naive classifier for evey value of the threshold. \n",
    "\n",
    "The AUC is a measure of the performance based on the area under the curve of a ROC curve. The ROC curve of a naive classifier is a diagonal with area under the curve of 0.5; a perfect classifier would have AUC of 1 (tpr = 100% and fpr = 0%)."
   ]
  },
  {
   "cell_type": "markdown",
   "metadata": {},
   "source": [
    "### Importing the packages for stratified K fold, ROC curve, and AUC\n"
   ]
  },
  {
   "cell_type": "code",
   "execution_count": 8,
   "metadata": {
    "collapsed": true
   },
   "outputs": [],
   "source": [
    "from sklearn.metrics import roc_curve, auc\n",
    "from sklearn.model_selection import StratifiedKFold\n",
    "from scipy import interp"
   ]
  },
  {
   "cell_type": "markdown",
   "metadata": {},
   "source": [
    "### Define the number of splits. \n",
    "We use a fix random state for reproducibility. Also, we initialize the listes where to save true positive rates, AUCs and average fpr.\n"
   ]
  },
  {
   "cell_type": "code",
   "execution_count": 9,
   "metadata": {
    "collapsed": true
   },
   "outputs": [],
   "source": [
    "cv = StratifiedKFold(n_splits=10, random_state=7)\n",
    "\n",
    "tprs = []\n",
    "aucs = []\n",
    "mean_fpr = np.linspace(0, 1, 100)"
   ]
  },
  {
   "cell_type": "markdown",
   "metadata": {},
   "source": [
    "### Train, predict, compute AUCs\n",
    "For every train-test split computed by cv.split(X, Y), we train the model, predict and compute the ROC/AUC.\n",
    "\n",
    "The ROC is plotted for each split. Eventually, the average is calculated and an *overall* ROC and AUC are presented in a plot form.\n"
   ]
  },
  {
   "cell_type": "code",
   "execution_count": 10,
   "metadata": {},
   "outputs": [
    {
     "data": {
      "text/plain": [
       "<matplotlib.legend.Legend at 0x11c0007b8>"
      ]
     },
     "execution_count": 10,
     "metadata": {},
     "output_type": "execute_result"
    },
    {
     "data": {
      "image/png": "[encoded data removed]",
      "text/plain": [
       "<matplotlib.figure.Figure at 0x11bf58a20>"
      ]
     },
     "metadata": {},
     "output_type": "display_data"
    }
   ],
   "source": [
    "i = 0\n",
    "for train, test in cv.split(X, Y):\n",
    "    #train and predict\n",
    "    model.fit(X[train], Y[train], verbose=0)\n",
    "    predicted_on_test = model.predict((X[test]))\n",
    "    # Compute false positive rate, true positive rate and thresholds\n",
    "    fpr, tpr, thresholds = roc_curve(Y[test], predicted_on_test)\n",
    "    #save in a list fpr and tpr for future use\n",
    "    tprs.append(interp(mean_fpr, fpr, tpr))\n",
    "    tprs[-1][0] = 0.0\n",
    "    # Compute ROC and AUC\n",
    "    roc_auc = auc(fpr, tpr)\n",
    "    \n",
    "    # Save the roc/auc in a list for later use\n",
    "    aucs.append(roc_auc)\n",
    "    \n",
    "    #Plot the roc for each specific split\n",
    "    plt.plot(fpr, tpr, lw=1, alpha=0.3,\n",
    "             label='ROC fold %d (AUC = %0.2f)' % (i, roc_auc))\n",
    "\n",
    "    i += 1\n",
    "    \n",
    "    \n",
    "    \n",
    "## Plot the average and standard deviation of the ROCs, as well as a naive prediction curve (random prediction)\n",
    "## Naive\n",
    "plt.plot([0, 1], [0, 1], linestyle='--', lw=2, color='#b35806',\n",
    "         label='Luck')\n",
    "\n",
    "## Mean\n",
    "mean_tpr = np.mean(tprs, axis=0)\n",
    "mean_auc = auc(mean_fpr, mean_tpr)\n",
    "std_auc = np.std(aucs)\n",
    "plt.plot(mean_fpr, mean_tpr, color='#542788',\n",
    "         label=r'Mean ROC (AUC = %0.2f $\\pm$ %0.2f)' % (mean_auc, std_auc),\n",
    "         lw=2)\n",
    "\n",
    "# Standard deviation\n",
    "std_tpr = np.std(tprs, axis=0)\n",
    "tprs_upper = np.minimum(mean_tpr + std_tpr, 1)\n",
    "tprs_lower = np.maximum(mean_tpr - std_tpr, 0)\n",
    "plt.fill_between(mean_fpr, tprs_lower, tprs_upper, color='grey', alpha=.2,\n",
    "                 label=r'$\\pm$ 1 std. dev.')\n",
    "\n",
    "##Plot labels\n",
    "plt.xlabel('False Positive Rate')\n",
    "plt.ylabel('True Positive Rate')\n",
    "plt.title('ROC & AUC')\n",
    "plt.legend(bbox_to_anchor=(1.8, 1), loc='upper right', ncol=1)\n"
   ]
  },
  {
   "cell_type": "code",
   "execution_count": null,
   "metadata": {
    "collapsed": true
   },
   "outputs": [],
   "source": []
  },
  {
   "cell_type": "code",
   "execution_count": null,
   "metadata": {
    "collapsed": true
   },
   "outputs": [],
   "source": []
  }
 ],
 "metadata": {
  "kernelspec": {
   "display_name": "Python 3",
   "language": "python",
   "name": "python3"
  },
  "language_info": {
   "codemirror_mode": {
    "name": "ipython",
    "version": 3
   },
   "file_extension": ".py",
   "mimetype": "text/x-python",
   "name": "python",
   "nbconvert_exporter": "python",
   "pygments_lexer": "ipython3",
   "version": "3.5.3"
  }
 },
 "nbformat": 4,
 "nbformat_minor": 2
}
